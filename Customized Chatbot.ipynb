{
 "cells": [
  {
   "cell_type": "code",
   "execution_count": null,
   "id": "ad400490",
   "metadata": {},
   "outputs": [],
   "source": [
    "pip install nltk"
   ]
  },
  {
   "cell_type": "code",
   "execution_count": 1,
   "id": "05c15202",
   "metadata": {},
   "outputs": [
    {
     "name": "stderr",
     "output_type": "stream",
     "text": [
      "[nltk_data] Error loading punkt: <urlopen error [WinError 10054] An\n",
      "[nltk_data]     existing connection was forcibly closed by the remote\n",
      "[nltk_data]     host>\n",
      "[nltk_data] Downloading package stopwords to\n",
      "[nltk_data]     C:\\Users\\hetvi\\AppData\\Roaming\\nltk_data...\n",
      "[nltk_data]   Package stopwords is already up-to-date!\n"
     ]
    },
    {
     "name": "stdout",
     "output_type": "stream",
     "text": [
      "Hello! I'm Orion, your chatbot. Type 'quit' to end the conversation.\n",
      "You: my name is hetvi\n",
      "Bot: Hi hetvi! How can I assist you today?\n",
      "You: what is weather\n",
      "Bot: I am a chatbot and do not have real-time weather information.\n",
      "You: i am sad\n",
      "Bot: I'm sorry to hear that. How can I help you feel better?\n",
      "You: quit\n"
     ]
    }
   ],
   "source": [
    "import nltk\n",
    "from nltk.chat.util import Chat, reflections\n",
    "from nltk.tokenize import word_tokenize\n",
    "from nltk.corpus import stopwords\n",
    "from nltk.stem import PorterStemmer\n",
    "\n",
    "# Download NLTK resources (if not already downloaded)\n",
    "nltk.download(\"punkt\")\n",
    "nltk.download(\"stopwords\")\n",
    "\n",
    "# Define a set of patterns and responses\n",
    "patterns = [\n",
    "    (r'my name is (.*)', ['Hi %1! How can I assist you today?']),\n",
    "    (r'What is (weather|temperature)', ['I am a chatbot and do not have real-time weather information.']),\n",
    "    (r'(.*) (your name|who are you)', [\"I'm a chatbot.You can call me Orion.\"]),\n",
    "    (r'what is your purpose', ['My purpose is to assist and chat with users.']),\n",
    "    (r'how (are you|do you do)', [\"I'm just a computer program, so I don't have feelings, but I'm here to help!\"]),\n",
    "    (r'I am (happy|good|well)', ['That\\'s great! How can I assist you further?']),\n",
    "    (r'I am (sad|unhappy|bad)', ['I\\'m sorry to hear that. How can I help you feel better?']),\n",
    "    (r'quit', ['Goodbye! If you have more questions, feel free to ask.']),\n",
    "    (r'(.*)', ['Sorry, I did not understand that. Can you please rephrase or ask a different question?']),\n",
    "]\n",
    "\n",
    "# Create a chatbot\n",
    "chatbot = Chat(patterns, reflections)\n",
    "\n",
    "# Additional processing for a more complex chatbot\n",
    "stop_words = set(stopwords.words('english'))\n",
    "stemmer = PorterStemmer()\n",
    "\n",
    "def preprocess_text(text):\n",
    "    words = word_tokenize(text)\n",
    "    words = [stemmer.stem(word.lower()) for word in words if word.isalnum() and word.lower() not in stop_words]\n",
    "    return ' '.join(words)\n",
    "\n",
    "def complex_response(user_input):\n",
    "    preprocessed_input = preprocess_text(user_input)\n",
    "    # Add more complex processing and response generation based on preprocessed input\n",
    "    return \"I'm still learning how to respond to that. Let's chat about something else!\"\n",
    "\n",
    "# Main chat loop\n",
    "print(\"Hello! I'm Orion, your chatbot. Type 'quit' to end the conversation.\")\n",
    "while True:\n",
    "    user_input = input(\"You: \")\n",
    "    if user_input.lower() == 'quit':\n",
    "        break\n",
    "\n",
    "    # Use the more complex response function for certain inputs\n",
    "    if 'your name' in user_input.lower():\n",
    "        response = complex_response(user_input)\n",
    "    else:\n",
    "        response = chatbot.respond(user_input)\n",
    "\n",
    "    print(\"Bot:\", response)\n"
   ]
  },
  {
   "cell_type": "code",
   "execution_count": null,
   "id": "5c32288a",
   "metadata": {},
   "outputs": [],
   "source": []
  }
 ],
 "metadata": {
  "kernelspec": {
   "display_name": "Python 3 (ipykernel)",
   "language": "python",
   "name": "python3"
  },
  "language_info": {
   "codemirror_mode": {
    "name": "ipython",
    "version": 3
   },
   "file_extension": ".py",
   "mimetype": "text/x-python",
   "name": "python",
   "nbconvert_exporter": "python",
   "pygments_lexer": "ipython3",
   "version": "3.11.3"
  }
 },
 "nbformat": 4,
 "nbformat_minor": 5
}
